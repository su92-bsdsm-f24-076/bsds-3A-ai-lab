{
 "cells": [
  {
   "cell_type": "code",
   "execution_count": 10,
   "id": "d693c7af",
   "metadata": {},
   "outputs": [
    {
     "name": "stdout",
     "output_type": "stream",
     "text": [
      "DLS traversal using manual stack\n",
      "Visiting 0 at depth 0\n",
      "Visiting 1 at depth 1\n",
      "Visiting 3 at depth 2\n",
      "Visiting 4 at depth 2\n",
      "Visiting 2 at depth 3\n",
      "\n",
      " Goal found!\n",
      "Path: ['0', '1', '4', '2']\n"
     ]
    }
   ],
   "source": [
    "def dls_with_stack(graph, start, goal, max_depth):\n",
    "    stack = [(start, 0, [start])]   \n",
    "    visited = set()\n",
    "\n",
    "    while stack:\n",
    "        vertex, depth, path = stack.pop()\n",
    "        print(f\"Visiting {vertex} at depth {depth}\")\n",
    "\n",
    "        if vertex == goal:\n",
    "            print(\"\\n Goal found!\")\n",
    "            return path\n",
    "\n",
    "        if depth < max_depth:   \n",
    "            visited.add(vertex)\n",
    "            for child in reversed(graph[vertex]):  \n",
    "                if child not in visited:\n",
    "                    stack.append((child, depth + 1, path + [child]))\n",
    "\n",
    "    print(\"\\n Goal not found within depth limit\")\n",
    "    return None\n",
    "\n",
    "\n",
    "\n",
    "graph = {\n",
    "    '0': ['1', '2'],\n",
    "    '1': ['0', '3', '4'],\n",
    "    '2': ['0'],\n",
    "    '3': ['1'],\n",
    "    '4': ['2', '3']\n",
    "}\n",
    "\n",
    "print(\"DLS traversal using manual stack\")\n",
    "goal = input(\"Enter goal node: \")\n",
    "limit = int(input(\"Enter depth limit: \"))\n",
    "\n",
    "result = dls_with_stack(graph, '0', goal, limit)\n",
    "\n",
    "if result:\n",
    "    print(\"Path:\", result)"
   ]
  }
 ],
 "metadata": {
  "kernelspec": {
   "display_name": "Python 3",
   "language": "python",
   "name": "python3"
  },
  "language_info": {
   "codemirror_mode": {
    "name": "ipython",
    "version": 3
   },
   "file_extension": ".py",
   "mimetype": "text/x-python",
   "name": "python",
   "nbconvert_exporter": "python",
   "pygments_lexer": "ipython3",
   "version": "3.13.0"
  }
 },
 "nbformat": 4,
 "nbformat_minor": 5
}
