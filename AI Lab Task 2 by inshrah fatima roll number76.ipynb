{
 "cells": [
  {
   "cell_type": "markdown",
   "id": "ebb4833f",
   "metadata": {},
   "source": [
    "Name= Inshrah Fatima\n",
    "\n",
    "Roll no= 076"
   ]
  },
  {
   "cell_type": "markdown",
   "id": "9f91fbef",
   "metadata": {},
   "source": [
    "Mini Project 1:\n"
   ]
  },
  {
   "cell_type": "code",
   "execution_count": 1,
   "id": "251c90b6",
   "metadata": {},
   "outputs": [
    {
     "name": "stdout",
     "output_type": "stream",
     "text": [
      "\n",
      "Round 1: Please enter your answer.\n",
      "Incorrect!  The correct answer was: 1\n",
      "\n",
      "Round 2: Please enter your answer.\n",
      "Incorrect!  The correct answer was:  1\n",
      "\n",
      "Round 3: Please enter your answer.\n",
      "Incorrect!  The correct answer was: 1 2\n",
      "\n",
      "Round 4: Please enter your answer.\n",
      "Incorrect!  The correct answer was: 2 fizz\n",
      "\n",
      "Round 5: Please enter your answer.\n",
      "Incorrect!  The correct answer was: fizz 4\n",
      "\n",
      "Round 6: Please enter your answer.\n",
      "Incorrect!  The correct answer was: 4 buzz\n",
      "\n",
      "Round 7: Please enter your answer.\n",
      "Incorrect!  The correct answer was: buzz fizz\n",
      "\n",
      "Round 8: Please enter your answer.\n",
      "Incorrect!  The correct answer was: fizz 7\n",
      "\n",
      "Round 9: Please enter your answer.\n",
      "Incorrect!  The correct answer was: 7 8\n",
      "\n",
      "Round 10: Please enter your answer.\n",
      "Incorrect!  The correct answer was: 8 fizz\n",
      "\n",
      "Game Over!\n",
      "Your final score: 0 out of 10\n"
     ]
    }
   ],
   "source": [
    "score = 0\n",
    "rounds = 10\n",
    "\n",
    "last_word = \"\"\n",
    "second_last_word = \"\"\n",
    "\n",
    "for round_counter in range(1, rounds + 1):\n",
    "    \n",
    "    if round_counter % 3 == 0 and round_counter % 5 == 0:\n",
    "        word = \"fizzbuzz\"\n",
    "    elif round_counter % 3 == 0:\n",
    "        word = \"fizz\"\n",
    "    elif round_counter % 5 == 0:\n",
    "        word = \"buzz\"\n",
    "    else:\n",
    "        word = str(round_counter)\n",
    "\n",
    "    \n",
    "    if round_counter == 1:\n",
    "        correct_answer = word\n",
    "    else:\n",
    "        correct_answer = second_last_word + \" \" + last_word\n",
    "\n",
    "    print(f\"\\nRound {round_counter}: Please enter your answer.\")\n",
    "    user_answer = input(\"Your answer: \").lower().strip()\n",
    "\n",
    "    if user_answer == correct_answer:\n",
    "        print(\"Correct! \")\n",
    "        score += 1\n",
    "    else:\n",
    "        print(f\"Incorrect!  The correct answer was: {correct_answer}\")\n",
    "\n",
    "\n",
    "    second_last_word = last_word\n",
    "    last_word = word\n",
    "\n",
    "print(\"\\nGame Over!\")\n",
    "print(f\"Your final score: {score} out of {rounds}\")\n"
   ]
  },
  {
   "cell_type": "markdown",
   "id": "c50b956d",
   "metadata": {},
   "source": [
    "Mini Project 2"
   ]
  },
  {
   "cell_type": "code",
   "execution_count": 3,
   "id": "fea252a9",
   "metadata": {},
   "outputs": [
    {
     "name": "stdout",
     "output_type": "stream",
     "text": [
      "\n",
      "Average budget: 190500000.0 \n",
      "\n",
      "Pirates of the Caribbean: On Stranger Tides : 379,000,000 (Above by 188,500,000, 99.0%)\n",
      "Avengers: Age of Ultron : 365,000,000 (Above by 174,500,000, 91.6%)\n",
      "Avengers: Endgame : 356,000,000 (Above by 165,500,000, 86.9%)\n",
      "Incredibles 2 : 200,000,000 (Above by 9,500,000, 5.0%)\n",
      "\n",
      "Total movies above average: 4\n"
     ]
    }
   ],
   "source": [
    "movies = [\n",
    "    (\"Eternal Sunshine of the Spotless Mind\", 20000000),\n",
    "    (\"Memento\", 9000000),\n",
    "    (\"Requiem for a Dream\", 4500000),\n",
    "    (\"Pirates of the Caribbean: On Stranger Tides\", 379000000),\n",
    "    (\"Avengers: Age of Ultron\", 365000000),\n",
    "    (\"Avengers: Endgame\", 356000000),\n",
    "    (\"Incredibles 2\", 200000000)\n",
    "]\n",
    "\n",
    "try:\n",
    "    more = int(input(\"How many movies do you want to add? (0 for none): \"))\n",
    "except:\n",
    "    more = 0\n",
    "\n",
    "for i in range(more):\n",
    "    name = input(f\"Enter name of movie {i+1}: \")\n",
    "    while True:\n",
    "        budget_text = input(f\"Enter budget of {name}: \")\n",
    "        budget_text = budget_text.replace(\",\", \"\").replace(\"$\", \"\")\n",
    "        if budget_text.isdigit():\n",
    "            budget = int(budget_text)\n",
    "            break\n",
    "        else:\n",
    "            print(\"Please enter numbers only.\")\n",
    "    movies.append((name, budget))\n",
    "\n",
    "if len(movies) == 0:\n",
    "    print(\"No movies available.\")\n",
    "else:\n",
    "    total_budget = 0\n",
    "    for m in movies:\n",
    "        total_budget += m[1]\n",
    "    average = total_budget / len(movies)\n",
    "\n",
    "    print(\"\\nAverage budget:\", round(average, 2), \"\\n\")\n",
    "\n",
    "    count = 0\n",
    "    movies_sorted = sorted(movies, key=lambda x: x[1], reverse=True)\n",
    "\n",
    "    for name, budget in movies_sorted:\n",
    "        if budget > average:\n",
    "            count += 1\n",
    "            diff = budget - average\n",
    "            percent = (diff / average) * 100\n",
    "            print(f\"{name} : {budget:,} (Above by {diff:,.0f}, {percent:.1f}%)\")\n",
    "\n",
    "    print(\"\\nTotal movies above average:\", count)"
   ]
  }
 ],
 "metadata": {
  "kernelspec": {
   "display_name": "Python 3",
   "language": "python",
   "name": "python3"
  },
  "language_info": {
   "codemirror_mode": {
    "name": "ipython",
    "version": 3
   },
   "file_extension": ".py",
   "mimetype": "text/x-python",
   "name": "python",
   "nbconvert_exporter": "python",
   "pygments_lexer": "ipython3",
   "version": "3.12.5"
  }
 },
 "nbformat": 4,
 "nbformat_minor": 5
}
