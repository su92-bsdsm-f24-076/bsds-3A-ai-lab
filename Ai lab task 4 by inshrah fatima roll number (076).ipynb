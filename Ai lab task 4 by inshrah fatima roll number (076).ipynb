{
 "cells": [
  {
   "cell_type": "code",
   "execution_count": 5,
   "id": "0744cbca",
   "metadata": {},
   "outputs": [
    {
     "name": "stdout",
     "output_type": "stream",
     "text": [
      "Valid Card\n"
     ]
    }
   ],
   "source": [
    "def luhn_check(card_number):\n",
    "    digits = [int(d) for d in str(card_number)]\n",
    "    check_digit = digits.pop()\n",
    "    digits.reverse()\n",
    "\n",
    "    for i in range(0, len(digits), 2):\n",
    "        digits[i] *= 2\n",
    "        if digits[i] > 9:\n",
    "            digits[i] -= 9\n",
    "\n",
    "    total = sum(digits) + check_digit\n",
    "    return total % 10 == 0\n",
    "card = \"5893804115457289\"\n",
    "print(\"Valid Card\" if luhn_check(card) else \"Invalid Card\")\n"
   ]
  },
  {
   "cell_type": "markdown",
   "id": "3ed21c0f",
   "metadata": {},
   "source": [
    "Task 1: Code for LUHN Algorithm"
   ]
  },
  {
   "cell_type": "code",
   "execution_count": 7,
   "id": "330adc45",
   "metadata": {},
   "outputs": [
    {
     "name": "stdout",
     "output_type": "stream",
     "text": [
      "Hello World Welcome\n"
     ]
    }
   ],
   "source": [
    "def remove_punctuations(text):\n",
    "    punctuations = '''!()-[]{};:'\"\\,<>./?@#$%^&*_~'''\n",
    "    no_punct = \"\".join([ch for ch in text if ch not in punctuations])\n",
    "    return no_punct\n",
    "s = \"Hello!!!, World??? Welcome...\"\n",
    "print(remove_punctuations(s))"
   ]
  },
  {
   "cell_type": "markdown",
   "id": "f415ee80",
   "metadata": {},
   "source": [
    "Task 2: Remove Punctuations from a String"
   ]
  },
  {
   "cell_type": "code",
   "execution_count": 1,
   "id": "d5366235",
   "metadata": {},
   "outputs": [
    {
     "name": "stdout",
     "output_type": "stream",
     "text": [
      "['My', 'name', 'is', 'Inshrah', 'Fatima']\n",
      "Sorted sentence: Fatima Inshrah My is name\n"
     ]
    }
   ],
   "source": [
    "def bubble_sort_sentence():\n",
    "    text = input(\"Enter a sentence: \")\n",
    "    words = text.split()\n",
    "    print(words)\n",
    "    n = len(words)\n",
    "    new = \" \"\n",
    "\n",
    "    for i in range(n):\n",
    "        for j in range(0, n - i - 1):\n",
    "            if words[j] > words[j + 1]:\n",
    "                words[j], words[j + 1] = words[j + 1], words[j]       \n",
    "\n",
    "    print(\"Sorted sentence:\",new.join(words))\n",
    "\n",
    "bubble_sort_sentence()\n"
   ]
  },
  {
   "cell_type": "markdown",
   "id": "7f227cf2",
   "metadata": {},
   "source": [
    "Task 3: Sort a Sentence in Alphabetical Order"
   ]
  }
 ],
 "metadata": {
  "kernelspec": {
   "display_name": "base",
   "language": "python",
   "name": "python3"
  },
  "language_info": {
   "codemirror_mode": {
    "name": "ipython",
    "version": 3
   },
   "file_extension": ".py",
   "mimetype": "text/x-python",
   "name": "python",
   "nbconvert_exporter": "python",
   "pygments_lexer": "ipython3",
   "version": "3.13.5"
  }
 },
 "nbformat": 4,
 "nbformat_minor": 5
}
