{
 "cells": [
  {
   "cell_type": "markdown",
   "id": "440344f0",
   "metadata": {},
   "source": [
    " lab task  7 \n",
    " Name:Inshrah Fatima \n",
    " Roll number :SU92-BSDSM-F24-076"
   ]
  },
  {
   "cell_type": "code",
   "execution_count": null,
   "id": "60518dd2",
   "metadata": {},
   "outputs": [],
   "source": [
    "def a_star(graph, start, goal, h):\n",
    "    open_list, g, parent = [start], {start: 0}, {start: None}\n",
    "\n",
    "    while open_list:\n",
    "        n = min(open_list, key=lambda x: g[x] + h[x])\n",
    "        if n == goal:\n",
    "            path = []\n",
    "            while n: path.append(n); n = parent[n]\n",
    "            print(\"Path:\", path[::-1])\n",
    "            return path[::-1]\n",
    "\n",
    "        open_list.remove(n)\n",
    "        for m, cost in graph.get(n, []):\n",
    "            new_g = g[n] + cost\n",
    "            if m not in g or new_g < g[m]:\n",
    "                g[m], parent[m] = new_g, n\n",
    "                open_list.append(m)\n",
    "\n",
    "    print(\"No path found!\")\n",
    "\n",
    "graph = {'A':[('B',1),('C',3),('D',7)], 'B':[('D',5)], 'C':[('D',12)]}\n",
    "h = {'A':1,'B':1,'C':1,'D':1}\n",
    "a_star(graph, 'A', 'D', h)\n"
   ]
  }
 ],
 "metadata": {
  "language_info": {
   "name": "python"
  }
 },
 "nbformat": 4,
 "nbformat_minor": 5
}
