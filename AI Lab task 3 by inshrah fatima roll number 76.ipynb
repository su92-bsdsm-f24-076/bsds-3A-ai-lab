{
 "cells": [
  {
   "cell_type": "markdown",
   "id": "c69a6808",
   "metadata": {},
   "source": [
    "Python Code – Model-Based Reflex Agent (Thermostat)"
   ]
  },
  {
   "cell_type": "code",
   "execution_count": null,
   "id": "31091099",
   "metadata": {},
   "outputs": [
    {
     "name": "stdout",
     "output_type": "stream",
     "text": [
      "Temp=21°C → Turn ON heater\n",
      "Temp=21.5°C → No change (already Turn ON heater)\n",
      "Temp=22°C → Turn OFF heater\n",
      "Temp=21.8°C → Turn ON heater\n",
      "Temp=22.5°C → Turn OFF heater\n",
      "Temp=22.1°C → No change (already Turn OFF heater)\n",
      "Temp=21.9°C → Turn ON heater\n"
     ]
    }
   ],
   "source": [
    "# Model-Based Reflex Agent Example: Thermostat with memory\n",
    "\n",
    "class ModelBasedReflexAgent:\n",
    "    def __init__(self, desired_temperature):\n",
    "        self.desired_temperature = desired_temperature\n",
    "        self.previous_action = None  \n",
    "\n",
    "    def act(self, current_temperature):\n",
    "        \n",
    "        if current_temperature < self.desired_temperature:\n",
    "            action = \"Turn ON heater\"\n",
    "        else:\n",
    "            action = \"Turn OFF heater\"\n",
    "\n",
    "        \n",
    "        if action == self.previous_action:\n",
    "            result = f\"Temp={current_temperature}°C → No change (already {action})\"\n",
    "        else:\n",
    "            result = f\"Temp={current_temperature}°C → {action}\"\n",
    "            self.previous_action = action  \n",
    "        return result\n",
    "\n",
    "\n",
    "\n",
    "agent = ModelBasedReflexAgent(22)  \n",
    "temperatures = [21, 21.5, 22, 21.8, 22.5, 22.1, 21.9]\n",
    "\n",
    "for t in temperatures:\n",
    "    print(agent.act(t))\n"
   ]
  }
 ],
 "metadata": {
  "kernelspec": {
   "display_name": "Python 3",
   "language": "python",
   "name": "python3"
  },
  "language_info": {
   "codemirror_mode": {
    "name": "ipython",
    "version": 3
   },
   "file_extension": ".py",
   "mimetype": "text/x-python",
   "name": "python",
   "nbconvert_exporter": "python",
   "pygments_lexer": "ipython3",
   "version": "3.13.0"
  }
 },
 "nbformat": 4,
 "nbformat_minor": 5
}
