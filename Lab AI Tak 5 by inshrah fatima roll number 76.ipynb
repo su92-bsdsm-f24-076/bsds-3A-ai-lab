{
 "cells": [
  {
   "cell_type": "markdown",
   "id": "16c46a4c",
   "metadata": {},
   "source": [
    "1. Fibonacci via For Loop"
   ]
  },
  {
   "cell_type": "code",
   "execution_count": null,
   "id": "e653822f",
   "metadata": {},
   "outputs": [
    {
     "name": "stdout",
     "output_type": "stream",
     "text": [
      "Fibonacci :\n",
      "0 1 1 2 3 5 8 13 21 34 "
     ]
    }
   ],
   "source": [
    "\n",
    "a, b = 0, 1\n",
    "print(\"Fibonacci :\")\n",
    "\n",
    "for i in range(10):\n",
    "    print(a, end=\" \")\n",
    "    a, b = b, a + b\n"
   ]
  },
  {
   "cell_type": "markdown",
   "id": "18ce5339",
   "metadata": {},
   "source": [
    "Fibonacci via recursion"
   ]
  },
  {
   "cell_type": "code",
   "execution_count": null,
   "id": "d2ce0f51",
   "metadata": {},
   "outputs": [
    {
     "name": "stdout",
     "output_type": "stream",
     "text": [
      "\n",
      "Fibonacci :\n",
      "0 1 1 2 3 5 8 13 21 34 "
     ]
    }
   ],
   "source": [
    "\n",
    "def fib(n):\n",
    "    if n <= 1:\n",
    "        return n\n",
    "    else:\n",
    "        return fib(n-1) + fib(n-2)\n",
    "\n",
    "print(\"\\nFibonacci :\")\n",
    "for i in range(10):\n",
    "    print(fib(i), end=\" \")\n"
   ]
  },
  {
   "cell_type": "markdown",
   "id": "3d391a7f",
   "metadata": {},
   "source": [
    "Fibonacci via For Loop"
   ]
  },
  {
   "cell_type": "code",
   "execution_count": 6,
   "id": "f4dc39b2",
   "metadata": {},
   "outputs": [
    {
     "name": "stdout",
     "output_type": "stream",
     "text": [
      "Fibonacci till 52 :\n",
      "0 1 1 2 3 5 8 13 21 34 "
     ]
    }
   ],
   "source": [
    "a, b = 0, 1\n",
    "print(\"Fibonacci till 52 :\")\n",
    "\n",
    "while a <= 52:\n",
    "    print(a, end=\" \")\n",
    "    a, b = b, a + b\n"
   ]
  },
  {
   "cell_type": "markdown",
   "id": "2862b2f8",
   "metadata": {},
   "source": [
    "Fibonacci via recursion"
   ]
  },
  {
   "cell_type": "code",
   "execution_count": 5,
   "id": "fcef8ff1",
   "metadata": {},
   "outputs": [
    {
     "name": "stdout",
     "output_type": "stream",
     "text": [
      "\n",
      "Fibonacci till 52 :\n",
      "0 1 1 2 3 5 8 13 21 34 "
     ]
    }
   ],
   "source": [
    "def fib(n):\n",
    "    if n <= 1:\n",
    "        return n\n",
    "    else:\n",
    "        return fib(n-1) + fib(n-2)\n",
    "\n",
    "print(\"\\nFibonacci till 52 :\")\n",
    "i = 0\n",
    "while True:\n",
    "    f = fib(i)\n",
    "    if f > 52:\n",
    "        break\n",
    "    print(f, end=\" \")\n",
    "    i += 1\n"
   ]
  },
  {
   "cell_type": "code",
   "execution_count": 1,
   "id": "cacfa6cd",
   "metadata": {},
   "outputs": [
    {
     "name": "stdout",
     "output_type": "stream",
     "text": [
      "DFS traversal using menual satck\n",
      "0 1 3 4 2 "
     ]
    }
   ],
   "source": [
    "def dfs_with_stack(graph,Start):\n",
    "    visited = set()\n",
    "    stack = []\n",
    "    stack.append(Start)\n",
    "    while stack:\n",
    "        vertex = stack.pop()\n",
    "        if vertex not in visited:\n",
    "            print(vertex, end=\" \")\n",
    "            visited.add(vertex)\n",
    "            for i in reversed(graph[vertex]):\n",
    "                if i not in visited:\n",
    "                    stack.append(i)\n",
    "graph = {\n",
    "    '0': ['1','2'],\n",
    "    '1': ['0','3','4'],\n",
    "    '2': ['0'],\n",
    "    '3': ['1'],\n",
    "    '4': ['2','3']\n",
    "}\n",
    "print(\"DFS traversal using menual satck\")\n",
    "dfs_with_stack(graph,'0')"
   ]
  }
 ],
 "metadata": {
  "kernelspec": {
   "display_name": "Python 3",
   "language": "python",
   "name": "python3"
  },
  "language_info": {
   "codemirror_mode": {
    "name": "ipython",
    "version": 3
   },
   "file_extension": ".py",
   "mimetype": "text/x-python",
   "name": "python",
   "nbconvert_exporter": "python",
   "pygments_lexer": "ipython3",
   "version": "3.13.0"
  }
 },
 "nbformat": 4,
 "nbformat_minor": 5
}
