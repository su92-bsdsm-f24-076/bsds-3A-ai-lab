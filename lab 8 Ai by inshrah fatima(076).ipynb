{
 "cells": [
  {
   "cell_type": "markdown",
   "id": "08cc9595",
   "metadata": {},
   "source": [
    "Name:Inshrah Fatima\n",
    "Roll No:SU92-BSDSM-F24-076"
   ]
  },
  {
   "cell_type": "code",
   "execution_count": 4,
   "id": "6427ea5f",
   "metadata": {},
   "outputs": [
    {
     "name": "stdout",
     "output_type": "stream",
     "text": [
      "The optimal value is: 3\n"
     ]
    }
   ],
   "source": [
    "import math\n",
    "\n",
    "def minimax(current_depth, node_index, is_max_turn, scores, target_depth):\n",
    "    if current_depth == target_depth:\n",
    "        return scores[node_index]\n",
    "    if is_max_turn:\n",
    "        left = minimax(current_depth + 1, node_index * 2, False, scores, target_depth)\n",
    "        right = minimax(current_depth + 1, node_index * 2 + 1, False, scores, target_depth)\n",
    "        return max(left, right)\n",
    "    else:\n",
    "        left = minimax(current_depth + 1, node_index * 2, True, scores, target_depth)\n",
    "        right = minimax(current_depth + 1, node_index * 2 + 1, True, scores, target_depth)\n",
    "        return min(left, right)\n",
    "scores = [3, 5, 2, 9] \n",
    "tree_depth = math.log(len(scores), 2)\n",
    "\n",
    "print(\"The optimal value is:\", minimax(0, 0, True, scores, tree_depth))"
   ]
  }
 ],
 "metadata": {
  "kernelspec": {
   "display_name": "base",
   "language": "python",
   "name": "python3"
  },
  "language_info": {
   "codemirror_mode": {
    "name": "ipython",
    "version": 3
   },
   "file_extension": ".py",
   "mimetype": "text/x-python",
   "name": "python",
   "nbconvert_exporter": "python",
   "pygments_lexer": "ipython3",
   "version": "3.13.5"
  }
 },
 "nbformat": 4,
 "nbformat_minor": 5
}
